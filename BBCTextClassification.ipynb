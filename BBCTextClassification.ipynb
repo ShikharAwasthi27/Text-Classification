{
 "cells": [
  {
   "cell_type": "code",
   "execution_count": 1,
   "metadata": {},
   "outputs": [],
   "source": [
    "import pandas as pd\n",
    "import os\n",
    "import glob\n",
    "import matplotlib.pyplot as plt\n",
    "\n",
    "import re\n",
    "\n",
    "import nltk\n",
    "from nltk.corpus import stopwords\n",
    "stopwordsList=stopwords.words('english')\n",
    "from nltk.tokenize import sent_tokenize, word_tokenize\n",
    "from nltk.stem import PorterStemmer\n",
    "from nltk.stem import WordNetLemmatizer\n",
    "\n",
    "from sklearn.metrics import accuracy_score\n",
    "from sklearn.metrics import confusion_matrix,roc_curve,auc,accuracy_score,roc_auc_score\n",
    "from sklearn.metrics import classification_report\n",
    "\n",
    "from sklearn.preprocessing import LabelEncoder\n",
    "from sklearn.svm import LinearSVC\n",
    "from sklearn.naive_bayes import MultinomialNB\n",
    "from sklearn.neighbors import KNeighborsClassifier\n",
    "from sklearn.model_selection import cross_val_score"
   ]
  },
  {
   "cell_type": "markdown",
   "metadata": {},
   "source": [
    "# Data Preparation\n",
    "********\n",
    "\n",
    "    -Reading the text documents.\n",
    "    -Preparing the dataframe."
   ]
  },
  {
   "cell_type": "code",
   "execution_count": 2,
   "metadata": {},
   "outputs": [],
   "source": [
    "# Step 1: get a list of all txt files in target directory for a particular category\n",
    "tags=[r'\\business',r'\\entertainment',r'\\politics',r'\\sport',r'\\tech']\n",
    "length=[0,0,0,0,0]\n",
    "filesList=[]\n",
    "text=[]\n",
    "for i in range(0,5):\n",
    "    my_dir = r\"C:\\Users\\inbox\\OneDrive\\Documents\\bbc\"\n",
    "    os.chdir(my_dir+tags[i])\n",
    "# Step 2: Build up list of files:\n",
    "    for files in glob.glob(\"*.txt\"):\n",
    "        fileName, fileExtension = os.path.splitext(files)\n",
    "        filesList.append(files) #filename with extension  \n",
    "        length[i]+=1    \n",
    "    for j in range(len(filesList)-length[i],len(filesList)):\n",
    "            file1 = open(filesList[j])\n",
    "            text.append(file1.read())              "
   ]
  },
  {
   "cell_type": "code",
   "execution_count": 3,
   "metadata": {},
   "outputs": [
    {
     "data": {
      "text/html": [
       "<div>\n",
       "<style scoped>\n",
       "    .dataframe tbody tr th:only-of-type {\n",
       "        vertical-align: middle;\n",
       "    }\n",
       "\n",
       "    .dataframe tbody tr th {\n",
       "        vertical-align: top;\n",
       "    }\n",
       "\n",
       "    .dataframe thead th {\n",
       "        text-align: right;\n",
       "    }\n",
       "</style>\n",
       "<table border=\"1\" class=\"dataframe\">\n",
       "  <thead>\n",
       "    <tr style=\"text-align: right;\">\n",
       "      <th></th>\n",
       "      <th>DocumentID</th>\n",
       "      <th>Text</th>\n",
       "      <th>Labels</th>\n",
       "    </tr>\n",
       "  </thead>\n",
       "  <tbody>\n",
       "    <tr>\n",
       "      <th>0</th>\n",
       "      <td>T1</td>\n",
       "      <td>Ad sales boost Time Warner profit\\n\\nQuarterly...</td>\n",
       "      <td>Business</td>\n",
       "    </tr>\n",
       "    <tr>\n",
       "      <th>1</th>\n",
       "      <td>T2</td>\n",
       "      <td>Dollar gains on Greenspan speech\\n\\nThe dollar...</td>\n",
       "      <td>Business</td>\n",
       "    </tr>\n",
       "    <tr>\n",
       "      <th>2</th>\n",
       "      <td>T3</td>\n",
       "      <td>Yukos unit buyer faces loan claim\\n\\nThe owner...</td>\n",
       "      <td>Business</td>\n",
       "    </tr>\n",
       "    <tr>\n",
       "      <th>3</th>\n",
       "      <td>T4</td>\n",
       "      <td>High fuel prices hit BA's profits\\n\\nBritish A...</td>\n",
       "      <td>Business</td>\n",
       "    </tr>\n",
       "    <tr>\n",
       "      <th>4</th>\n",
       "      <td>T5</td>\n",
       "      <td>Pernod takeover talk lifts Domecq\\n\\nShares in...</td>\n",
       "      <td>Business</td>\n",
       "    </tr>\n",
       "  </tbody>\n",
       "</table>\n",
       "</div>"
      ],
      "text/plain": [
       "  DocumentID                                               Text    Labels\n",
       "0         T1  Ad sales boost Time Warner profit\\n\\nQuarterly...  Business\n",
       "1         T2  Dollar gains on Greenspan speech\\n\\nThe dollar...  Business\n",
       "2         T3  Yukos unit buyer faces loan claim\\n\\nThe owner...  Business\n",
       "3         T4  High fuel prices hit BA's profits\\n\\nBritish A...  Business\n",
       "4         T5  Pernod takeover talk lifts Domecq\\n\\nShares in...  Business"
      ]
     },
     "execution_count": 3,
     "metadata": {},
     "output_type": "execute_result"
    }
   ],
   "source": [
    "#Preparing the final dataframe\n",
    "labelMarker=[]\n",
    "labelMarker.append(length[0])\n",
    "labelMarker.append(length[0]+length[1])\n",
    "labelMarker.append(length[0]+length[1]+length[2])\n",
    "labelMarker.append(length[0]+length[1]+length[2]+length[3])\n",
    "labelMarker.append(length[0]+length[1]+length[2]+length[3]+length[4])\n",
    "# labelMarker has been updated to assign the labels correctly\n",
    "df=pd.DataFrame()\n",
    "labels=[]\n",
    "ids=[]\n",
    "for i in range(0,len(text)):\n",
    "    ids.append(\"T\"+str(i+1))\n",
    "    if i<labelMarker[0]:\n",
    "        labels.append(\"Business\")\n",
    "    elif i>=labelMarker[0] and i<labelMarker[1]:\n",
    "        labels.append(\"Entertainment\")\n",
    "    elif i>=labelMarker[1] and i<labelMarker[2]:\n",
    "        labels.append(\"Politics\")\n",
    "    elif i>=labelMarker[2] and i<labelMarker[3]:\n",
    "        labels.append(\"Sports\")\n",
    "    else:\n",
    "        labels.append(\"Technology\")\n",
    "df['DocumentID']=ids\n",
    "df['Text']=text\n",
    "df['Labels']=labels\n",
    "df.head()"
   ]
  },
  {
   "cell_type": "markdown",
   "metadata": {},
   "source": [
    "# Data Exploration\n",
    "********\n",
    "\n",
    "    -Checking for null columns.\n",
    "    -Checking for column with empty strings.\n",
    "    -Stripping white spaces at beginning and end from the label names.\n",
    "    -Distribution of various categories."
   ]
  },
  {
   "cell_type": "code",
   "execution_count": 4,
   "metadata": {},
   "outputs": [
    {
     "name": "stdout",
     "output_type": "stream",
     "text": [
      "Total number of records is 2225\n"
     ]
    }
   ],
   "source": [
    "print(\"Total number of records is {}\".format(df.shape[0]))"
   ]
  },
  {
   "cell_type": "markdown",
   "metadata": {},
   "source": [
    "\n",
    "\n",
    "- No column has null values"
   ]
  },
  {
   "cell_type": "code",
   "execution_count": 5,
   "metadata": {},
   "outputs": [
    {
     "data": {
      "text/plain": [
       "DocumentID    False\n",
       "Text          False\n",
       "Labels        False\n",
       "dtype: bool"
      ]
     },
     "execution_count": 5,
     "metadata": {},
     "output_type": "execute_result"
    }
   ],
   "source": [
    "#No column has null values\n",
    "df.isnull().any()"
   ]
  },
  {
   "cell_type": "markdown",
   "metadata": {},
   "source": [
    "- Distribution of the label."
   ]
  },
  {
   "cell_type": "code",
   "execution_count": 6,
   "metadata": {},
   "outputs": [
    {
     "data": {
      "text/plain": [
       "Sports           511\n",
       "Business         510\n",
       "Politics         417\n",
       "Technology       401\n",
       "Entertainment    386\n",
       "Name: Labels, dtype: int64"
      ]
     },
     "execution_count": 6,
     "metadata": {},
     "output_type": "execute_result"
    }
   ],
   "source": [
    "df['Labels'].value_counts()"
   ]
  },
  {
   "cell_type": "markdown",
   "metadata": {},
   "source": [
    "********\n",
    "<strong>Distribution Analysis</strong>\n",
    "\n",
    "    - Category with very less data points will be considered as noise by model but there are no such categories in our data. "
   ]
  },
  {
   "cell_type": "markdown",
   "metadata": {},
   "source": [
    "# Data Preprocessing\n",
    "***********\n",
    "\n",
    "    -Helper functions\n",
    "    -Data preprocessing using these functions\n",
    "    -Distribution of Length of text documents for a optimal selection of max length while building a model."
   ]
  },
  {
   "cell_type": "code",
   "execution_count": 7,
   "metadata": {},
   "outputs": [],
   "source": [
    "# Removing anything followed by a @\n",
    "def remove_mention(x):\n",
    "    return re.sub(r'@[A-Za-z0-9]+','',x)\n",
    "\n",
    "# Removing the urls\n",
    "def remove_urls(x):\n",
    "    return re.sub('https?://[A-Za-z0-9./]+','',x)\n",
    "\n",
    "# Removing the Numbers\n",
    "def remove_hastagNumbers(x):\n",
    "    return re.sub(\"[^a-zA-Z]\", \" \", x)\n",
    "\n",
    "# Split text at CamelCase\n",
    "def split_uppercase(x):\n",
    "    return str(\" \".join([\" \".join(re.split(\"([A-Z]{1}[a-z]+)\",word)) for word in x.split(' ')]))\n",
    "    \n",
    "# Converting text in lowercase\n",
    "def LowerCase(x):\n",
    "    return str(x.lower())\n",
    "\n",
    "# Removing stopwords\n",
    "def StopwordsRemoval(x):\n",
    "    return str(' '.join([each if each not in stopwordsList else '' for each in x.split(' ')]))\n",
    "\n",
    "# Removing multiple white spaces from the text\n",
    "def RemoveMultipleWhiteSpaces(x):\n",
    "    FILTER_MULTIPLE_WHITESPACES = \"\\s\\s+\"\n",
    "    return re.sub(FILTER_MULTIPLE_WHITESPACES,' ',x)\n",
    "\n",
    "# Strip spaces at the end and the starting\n",
    "def toStripWhiteSpaces(x):\n",
    "    return x.strip()\n",
    "\n",
    "# To remove new line characters from our text\n",
    "def toStripNewLines(x):\n",
    "    return x.rstrip('\\r\\n')\n",
    "\n",
    "# Function for calling all the other functions\n",
    "def preprocess(x):\n",
    "    return toStripNewLines(toStripWhiteSpaces(RemoveMultipleWhiteSpaces(StopwordsRemoval(LowerCase(split_uppercase(remove_hastagNumbers(remove_urls(remove_mention(x)))))))))\n"
   ]
  },
  {
   "cell_type": "markdown",
   "metadata": {},
   "source": [
    "- Helper Functions for data processing"
   ]
  },
  {
   "cell_type": "code",
   "execution_count": 8,
   "metadata": {},
   "outputs": [],
   "source": [
    "#Preprocessing the text by using helper functions\n",
    "df['preprocessed_description']=df['Text'].apply(preprocess)"
   ]
  },
  {
   "cell_type": "markdown",
   "metadata": {},
   "source": [
    "- Processing text with the above defined helper functions"
   ]
  },
  {
   "cell_type": "markdown",
   "metadata": {},
   "source": [
    "************************\n",
    "<strong>Tokenization</strong>"
   ]
  },
  {
   "cell_type": "code",
   "execution_count": 9,
   "metadata": {},
   "outputs": [],
   "source": [
    "# defining a function for word tokenizer\n",
    "def tokenization(words):\n",
    "    return(word_tokenize(words))"
   ]
  },
  {
   "cell_type": "code",
   "execution_count": 10,
   "metadata": {},
   "outputs": [],
   "source": [
    "#Applying the above defined tokenization function\n",
    "df['preprocessed_description']=df['preprocessed_description'].apply(tokenization)"
   ]
  },
  {
   "cell_type": "markdown",
   "metadata": {},
   "source": [
    "***\n",
    "<strong>Stemming</strong>"
   ]
  },
  {
   "cell_type": "code",
   "execution_count": 11,
   "metadata": {},
   "outputs": [],
   "source": [
    "# defining a function for stemming\n",
    "def stemming(words):\n",
    "    porter = PorterStemmer()\n",
    "    for i,word in enumerate(words):\n",
    "        words[i]=porter.stem(word)\n",
    "    return words   \n"
   ]
  },
  {
   "cell_type": "code",
   "execution_count": 12,
   "metadata": {},
   "outputs": [],
   "source": [
    "#Applying the above defined stemming function \n",
    "df['preprocessed_description']=df['preprocessed_description'].apply(stemming)"
   ]
  },
  {
   "cell_type": "markdown",
   "metadata": {},
   "source": [
    "***\n",
    "<strong>Lemmatization</strong>"
   ]
  },
  {
   "cell_type": "code",
   "execution_count": 13,
   "metadata": {},
   "outputs": [],
   "source": [
    "# defining a function for lemmatization\n",
    "def lemmatization(words):\n",
    "    lemmatizer = WordNetLemmatizer()\n",
    "    for i,word in enumerate(words):\n",
    "        words[i]=lemmatizer.lemmatize(word)\n",
    "    return words"
   ]
  },
  {
   "cell_type": "code",
   "execution_count": 14,
   "metadata": {},
   "outputs": [],
   "source": [
    "#Applying the above defined lemmatization function \n",
    "df['preprocessed_description']=df['preprocessed_description'].apply(lemmatization)"
   ]
  },
  {
   "cell_type": "code",
   "execution_count": 15,
   "metadata": {},
   "outputs": [
    {
     "data": {
      "text/plain": [
       "0       [ad, sale, boost, time, warner, profit, quarte...\n",
       "1       [dollar, gain, greenspan, speech, dollar, hit,...\n",
       "2       [yuko, unit, buyer, face, loan, claim, owner, ...\n",
       "3       [high, fuel, price, hit, ba, profit, british, ...\n",
       "4       [pernod, takeov, talk, lift, domecq, share, uk...\n",
       "5       [japan, narrowli, escap, recess, japan, econom...\n",
       "6       [job, growth, still, slow, u, u, creat, fewer,...\n",
       "7       [india, call, fair, trade, rule, india, attend...\n",
       "8       [ethiopia, crop, product, ethiopia, produc, mi...\n",
       "9       [court, reject, bn, tobacco, case, u, govern, ...\n",
       "10      [ask, jeev, tip, onlin, ad, reviv, ask, jeev, ...\n",
       "11      [indonesian, face, fuel, price, rise, indonesi...\n",
       "12      [peugeot, deal, boost, mitsubishi, struggl, ja...\n",
       "13      [telegraph, newspap, axe, job, daili, sunday, ...\n",
       "14      [air, passeng, win, new, eu, right, air, passe...\n",
       "15      [china, keep, tight, rein, credit, china, effo...\n",
       "16      [parmalat, boast, doubl, profit, parmalat, ita...\n",
       "17      [india, rupe, hit, five, year, high, india, ru...\n",
       "18      [india, widen, access, telecom, india, rais, l...\n",
       "19      [call, centr, user, lose, patienc, custom, tri...\n",
       "20      [rank, set, sell, film, unit, leisur, group, r...\n",
       "21      [sluggish, economi, hit, german, job, number, ...\n",
       "22      [mix, signal, french, economi, french, economi...\n",
       "23      [u, trade, gap, hit, record, gap, u, export, i...\n",
       "24      [yuko, lose, u, bankruptci, battl, judg, dismi...\n",
       "25      [safeti, alert, gm, recal, car, world, biggest...\n",
       "26      [steel, firm, cut, job, mittal, steel, one, wo...\n",
       "27      [strong, demand, trigger, oil, ralli, crude, o...\n",
       "28      [uk, firm, face, venezuelan, land, row, venezu...\n",
       "29      [soar, oil, hit, world, economi, soar, cost, o...\n",
       "                              ...                        \n",
       "2195    [text, messag, record, smash, uk, mobil, owner...\n",
       "2196    [softwar, watch, work, softwar, monitor, everi...\n",
       "2197    [commodor, find, new, lea, life, famou, commod...\n",
       "2198    [cab, collect, mountain, mobil, gadget, cheape...\n",
       "2199    [mobil, bet, pocket, offic, mobil, launch, lat...\n",
       "2200    [california, set, fine, spywar, maker, comput,...\n",
       "2201    [mobil, tv, tip, one, watch, scandinavian, kor...\n",
       "2202    [appl, laptop, greatest, gadget, appl, powerbo...\n",
       "2203    [sun, offer, process, hour, sun, microsystem, ...\n",
       "2204    [kenyan, school, turn, handheld, mbita, point,...\n",
       "2205    [tough, rule, rington, seller, firm, flout, ru...\n",
       "2206    [mobil, music, challeng, pod, age, nokia, micr...\n",
       "2207    [china, ripe, medium, explos, asia, set, drive...\n",
       "2208    [beckham, viru, spot, net, viru, writer, trade...\n",
       "2209    [video, phone, act, date, tool, technolog, e, ...\n",
       "2210    [progress, new, internet, domain, earli, net, ...\n",
       "2211    [camera, phone, must, have, four, time, mobil,...\n",
       "2212    [mobil, multimedia, slow, catch, doubt, mobil,...\n",
       "2213    [anti, spam, law, bite, spammer, hard, net, se...\n",
       "2214    [peer, peer, net, stay, peer, peer, p, p, netw...\n",
       "2215    [broadband, fuel, onlin, express, fast, web, a...\n",
       "2216    [savvi, searcher, fail, spot, ad, internet, se...\n",
       "2217    [tv, futur, phone, line, internet, tv, talk, s...\n",
       "2218    [cebit, fever, take, hanov, thousand, product,...\n",
       "2219    [new, consol, promis, big, problem, make, game...\n",
       "2220    [bt, program, beat, dialler, scam, bt, introdu...\n",
       "2221    [spam, e, mail, tempt, net, shopper, comput, u...\n",
       "2222    [care, code, new, european, direct, could, put...\n",
       "2223    [u, cyber, secur, chief, resign, man, make, su...\n",
       "2224    [lose, onlin, game, onlin, role, play, game, t...\n",
       "Name: preprocessed_description, Length: 2225, dtype: object"
      ]
     },
     "execution_count": 15,
     "metadata": {},
     "output_type": "execute_result"
    }
   ],
   "source": [
    "df['preprocessed_description']"
   ]
  },
  {
   "cell_type": "markdown",
   "metadata": {},
   "source": [
    "# Word Vectorization"
   ]
  },
  {
   "cell_type": "markdown",
   "metadata": {},
   "source": [
    "*************\n",
    "<strong>Feature Engineering</strong>\n",
    "    \n",
    "    - Tranforming the data into features using tf-idf."
   ]
  },
  {
   "cell_type": "code",
   "execution_count": 16,
   "metadata": {},
   "outputs": [],
   "source": [
    "# Function for calculating the term frequency for each word in a document\n",
    "def computeTF(wordDict, bow):\n",
    "    tfDict = {}\n",
    "    bowCount = len(bow)\n",
    "    for word, count in wordDict.items():\n",
    "        tfDict[word] = count/float(bowCount)\n",
    "    return tfDict"
   ]
  },
  {
   "cell_type": "code",
   "execution_count": 17,
   "metadata": {},
   "outputs": [],
   "source": [
    "# Function for calculating the inverse document frequency\n",
    "def computeIDF(docList):\n",
    "    import math\n",
    "    idfDict = {}\n",
    "    N = len(docList)\n",
    "    \n",
    "    idfDict = dict.fromkeys(docList[0].keys(), 0)\n",
    "    for doc in docList:\n",
    "        for word, val in doc.items():\n",
    "            if val > 0:\n",
    "                idfDict[word] += 1\n",
    "    \n",
    "    for word, val in idfDict.items():\n",
    "        idfDict[word] = math.log10(N / float(val))\n",
    "        \n",
    "    return idfDict"
   ]
  },
  {
   "cell_type": "code",
   "execution_count": 18,
   "metadata": {},
   "outputs": [],
   "source": [
    "# Function for calculating the tfidf\n",
    "def computeTFIDF(tfBow, idfs):\n",
    "    tfidf = {}\n",
    "    for word, val in tfBow.items():\n",
    "        tfidf[word] = val*idfs[word]\n",
    "    return tfidf"
   ]
  },
  {
   "cell_type": "code",
   "execution_count": 19,
   "metadata": {},
   "outputs": [],
   "source": [
    "# Preparing the wordset containing all the words in the corpus\n",
    "wordSet=set()\n",
    "for bow in df['preprocessed_description']:\n",
    "    wordSet=wordSet|set(bow)    "
   ]
  },
  {
   "cell_type": "code",
   "execution_count": 20,
   "metadata": {},
   "outputs": [
    {
     "data": {
      "text/plain": [
       "18839"
      ]
     },
     "execution_count": 20,
     "metadata": {},
     "output_type": "execute_result"
    }
   ],
   "source": [
    "len(wordSet)"
   ]
  },
  {
   "cell_type": "code",
   "execution_count": 21,
   "metadata": {},
   "outputs": [],
   "source": [
    "# Preparing a list of dictionary having a word in a document as key and its count as the value\n",
    "wordDictList=[]\n",
    "for bow in df['preprocessed_description']:\n",
    "    wordDict = dict.fromkeys(wordSet, 0) \n",
    "    for word in bow:\n",
    "        wordDict[word]+=1\n",
    "    wordDictList.append(wordDict)    "
   ]
  },
  {
   "cell_type": "code",
   "execution_count": 22,
   "metadata": {},
   "outputs": [],
   "source": [
    "# Preparing a list of term frequency for the documents\n",
    "tflist=[]\n",
    "for i,bow in enumerate(df['preprocessed_description']):\n",
    "    tfDict=computeTF(wordDictList[i], bow)\n",
    "    tflist.append(tfDict)"
   ]
  },
  {
   "cell_type": "code",
   "execution_count": 23,
   "metadata": {},
   "outputs": [
    {
     "data": {
      "text/plain": [
       "2225"
      ]
     },
     "execution_count": 23,
     "metadata": {},
     "output_type": "execute_result"
    }
   ],
   "source": [
    "len(tflist)"
   ]
  },
  {
   "cell_type": "code",
   "execution_count": 24,
   "metadata": {},
   "outputs": [],
   "source": [
    "# Calculation of the inverse document frequency\n",
    "idfs = computeIDF(wordDictList)"
   ]
  },
  {
   "cell_type": "code",
   "execution_count": 25,
   "metadata": {},
   "outputs": [],
   "source": [
    "# Preparing a list of tfidf for the documents or preprocessed description\n",
    "tfIdfList=[]\n",
    "for i,tf in enumerate(tflist):\n",
    "    tfidf = computeTFIDF(tflist[i], idfs)\n",
    "    tfIdfList.append(tfidf)"
   ]
  },
  {
   "cell_type": "code",
   "execution_count": 26,
   "metadata": {},
   "outputs": [],
   "source": [
    "# Preparing a dataframe for the above calculated tfidf\n",
    "df_tf_idf=pd.DataFrame(tfIdfList)"
   ]
  },
  {
   "cell_type": "code",
   "execution_count": 27,
   "metadata": {},
   "outputs": [
    {
     "data": {
      "text/html": [
       "<div>\n",
       "<style scoped>\n",
       "    .dataframe tbody tr th:only-of-type {\n",
       "        vertical-align: middle;\n",
       "    }\n",
       "\n",
       "    .dataframe tbody tr th {\n",
       "        vertical-align: top;\n",
       "    }\n",
       "\n",
       "    .dataframe thead th {\n",
       "        text-align: right;\n",
       "    }\n",
       "</style>\n",
       "<table border=\"1\" class=\"dataframe\">\n",
       "  <thead>\n",
       "    <tr style=\"text-align: right;\">\n",
       "      <th></th>\n",
       "      <th>aa</th>\n",
       "      <th>aaa</th>\n",
       "      <th>aac</th>\n",
       "      <th>aadc</th>\n",
       "      <th>aaliyah</th>\n",
       "      <th>aaltra</th>\n",
       "      <th>aamir</th>\n",
       "      <th>aan</th>\n",
       "      <th>aara</th>\n",
       "      <th>aarhu</th>\n",
       "      <th>...</th>\n",
       "      <th>zoom</th>\n",
       "      <th>zooropa</th>\n",
       "      <th>zornotza</th>\n",
       "      <th>zorro</th>\n",
       "      <th>zubair</th>\n",
       "      <th>zuluaga</th>\n",
       "      <th>zurich</th>\n",
       "      <th>zuton</th>\n",
       "      <th>zvonareva</th>\n",
       "      <th>zvyagintsev</th>\n",
       "    </tr>\n",
       "  </thead>\n",
       "  <tbody>\n",
       "    <tr>\n",
       "      <th>0</th>\n",
       "      <td>0.0</td>\n",
       "      <td>0.0</td>\n",
       "      <td>0.0</td>\n",
       "      <td>0.0</td>\n",
       "      <td>0.0</td>\n",
       "      <td>0.0</td>\n",
       "      <td>0.0</td>\n",
       "      <td>0.0</td>\n",
       "      <td>0.0</td>\n",
       "      <td>0.0</td>\n",
       "      <td>...</td>\n",
       "      <td>0.0</td>\n",
       "      <td>0.0</td>\n",
       "      <td>0.0</td>\n",
       "      <td>0.0</td>\n",
       "      <td>0.0</td>\n",
       "      <td>0.0</td>\n",
       "      <td>0.0</td>\n",
       "      <td>0.0</td>\n",
       "      <td>0.0</td>\n",
       "      <td>0.0</td>\n",
       "    </tr>\n",
       "    <tr>\n",
       "      <th>1</th>\n",
       "      <td>0.0</td>\n",
       "      <td>0.0</td>\n",
       "      <td>0.0</td>\n",
       "      <td>0.0</td>\n",
       "      <td>0.0</td>\n",
       "      <td>0.0</td>\n",
       "      <td>0.0</td>\n",
       "      <td>0.0</td>\n",
       "      <td>0.0</td>\n",
       "      <td>0.0</td>\n",
       "      <td>...</td>\n",
       "      <td>0.0</td>\n",
       "      <td>0.0</td>\n",
       "      <td>0.0</td>\n",
       "      <td>0.0</td>\n",
       "      <td>0.0</td>\n",
       "      <td>0.0</td>\n",
       "      <td>0.0</td>\n",
       "      <td>0.0</td>\n",
       "      <td>0.0</td>\n",
       "      <td>0.0</td>\n",
       "    </tr>\n",
       "    <tr>\n",
       "      <th>2</th>\n",
       "      <td>0.0</td>\n",
       "      <td>0.0</td>\n",
       "      <td>0.0</td>\n",
       "      <td>0.0</td>\n",
       "      <td>0.0</td>\n",
       "      <td>0.0</td>\n",
       "      <td>0.0</td>\n",
       "      <td>0.0</td>\n",
       "      <td>0.0</td>\n",
       "      <td>0.0</td>\n",
       "      <td>...</td>\n",
       "      <td>0.0</td>\n",
       "      <td>0.0</td>\n",
       "      <td>0.0</td>\n",
       "      <td>0.0</td>\n",
       "      <td>0.0</td>\n",
       "      <td>0.0</td>\n",
       "      <td>0.0</td>\n",
       "      <td>0.0</td>\n",
       "      <td>0.0</td>\n",
       "      <td>0.0</td>\n",
       "    </tr>\n",
       "    <tr>\n",
       "      <th>3</th>\n",
       "      <td>0.0</td>\n",
       "      <td>0.0</td>\n",
       "      <td>0.0</td>\n",
       "      <td>0.0</td>\n",
       "      <td>0.0</td>\n",
       "      <td>0.0</td>\n",
       "      <td>0.0</td>\n",
       "      <td>0.0</td>\n",
       "      <td>0.0</td>\n",
       "      <td>0.0</td>\n",
       "      <td>...</td>\n",
       "      <td>0.0</td>\n",
       "      <td>0.0</td>\n",
       "      <td>0.0</td>\n",
       "      <td>0.0</td>\n",
       "      <td>0.0</td>\n",
       "      <td>0.0</td>\n",
       "      <td>0.0</td>\n",
       "      <td>0.0</td>\n",
       "      <td>0.0</td>\n",
       "      <td>0.0</td>\n",
       "    </tr>\n",
       "    <tr>\n",
       "      <th>4</th>\n",
       "      <td>0.0</td>\n",
       "      <td>0.0</td>\n",
       "      <td>0.0</td>\n",
       "      <td>0.0</td>\n",
       "      <td>0.0</td>\n",
       "      <td>0.0</td>\n",
       "      <td>0.0</td>\n",
       "      <td>0.0</td>\n",
       "      <td>0.0</td>\n",
       "      <td>0.0</td>\n",
       "      <td>...</td>\n",
       "      <td>0.0</td>\n",
       "      <td>0.0</td>\n",
       "      <td>0.0</td>\n",
       "      <td>0.0</td>\n",
       "      <td>0.0</td>\n",
       "      <td>0.0</td>\n",
       "      <td>0.0</td>\n",
       "      <td>0.0</td>\n",
       "      <td>0.0</td>\n",
       "      <td>0.0</td>\n",
       "    </tr>\n",
       "  </tbody>\n",
       "</table>\n",
       "<p>5 rows × 18839 columns</p>\n",
       "</div>"
      ],
      "text/plain": [
       "    aa  aaa  aac  aadc  aaliyah  aaltra  aamir  aan  aara  aarhu  ...  zoom  \\\n",
       "0  0.0  0.0  0.0   0.0      0.0     0.0    0.0  0.0   0.0    0.0  ...   0.0   \n",
       "1  0.0  0.0  0.0   0.0      0.0     0.0    0.0  0.0   0.0    0.0  ...   0.0   \n",
       "2  0.0  0.0  0.0   0.0      0.0     0.0    0.0  0.0   0.0    0.0  ...   0.0   \n",
       "3  0.0  0.0  0.0   0.0      0.0     0.0    0.0  0.0   0.0    0.0  ...   0.0   \n",
       "4  0.0  0.0  0.0   0.0      0.0     0.0    0.0  0.0   0.0    0.0  ...   0.0   \n",
       "\n",
       "   zooropa  zornotza  zorro  zubair  zuluaga  zurich  zuton  zvonareva  \\\n",
       "0      0.0       0.0    0.0     0.0      0.0     0.0    0.0        0.0   \n",
       "1      0.0       0.0    0.0     0.0      0.0     0.0    0.0        0.0   \n",
       "2      0.0       0.0    0.0     0.0      0.0     0.0    0.0        0.0   \n",
       "3      0.0       0.0    0.0     0.0      0.0     0.0    0.0        0.0   \n",
       "4      0.0       0.0    0.0     0.0      0.0     0.0    0.0        0.0   \n",
       "\n",
       "   zvyagintsev  \n",
       "0          0.0  \n",
       "1          0.0  \n",
       "2          0.0  \n",
       "3          0.0  \n",
       "4          0.0  \n",
       "\n",
       "[5 rows x 18839 columns]"
      ]
     },
     "execution_count": 27,
     "metadata": {},
     "output_type": "execute_result"
    }
   ],
   "source": [
    "df_tf_idf.head(5)"
   ]
  },
  {
   "cell_type": "markdown",
   "metadata": {},
   "source": [
    "*************\n",
    "<strong>Encoding</strong>\n",
    "    \n",
    "    - Label encoding the target variable"
   ]
  },
  {
   "cell_type": "code",
   "execution_count": 28,
   "metadata": {},
   "outputs": [],
   "source": [
    "#Label encode the target variable\n",
    "finalDf=df\n",
    "Encoder = LabelEncoder()\n",
    "finalDf['encoded_labels'] = Encoder.fit_transform(finalDf['Labels'])"
   ]
  },
  {
   "cell_type": "code",
   "execution_count": 29,
   "metadata": {},
   "outputs": [
    {
     "data": {
      "text/html": [
       "<div>\n",
       "<style scoped>\n",
       "    .dataframe tbody tr th:only-of-type {\n",
       "        vertical-align: middle;\n",
       "    }\n",
       "\n",
       "    .dataframe tbody tr th {\n",
       "        vertical-align: top;\n",
       "    }\n",
       "\n",
       "    .dataframe thead th {\n",
       "        text-align: right;\n",
       "    }\n",
       "</style>\n",
       "<table border=\"1\" class=\"dataframe\">\n",
       "  <thead>\n",
       "    <tr style=\"text-align: right;\">\n",
       "      <th></th>\n",
       "      <th>DocumentID</th>\n",
       "      <th>Text</th>\n",
       "      <th>Labels</th>\n",
       "      <th>preprocessed_description</th>\n",
       "      <th>encoded_labels</th>\n",
       "    </tr>\n",
       "  </thead>\n",
       "  <tbody>\n",
       "    <tr>\n",
       "      <th>0</th>\n",
       "      <td>T1</td>\n",
       "      <td>Ad sales boost Time Warner profit\\n\\nQuarterly...</td>\n",
       "      <td>Business</td>\n",
       "      <td>[ad, sale, boost, time, warner, profit, quarte...</td>\n",
       "      <td>0</td>\n",
       "    </tr>\n",
       "    <tr>\n",
       "      <th>1</th>\n",
       "      <td>T2</td>\n",
       "      <td>Dollar gains on Greenspan speech\\n\\nThe dollar...</td>\n",
       "      <td>Business</td>\n",
       "      <td>[dollar, gain, greenspan, speech, dollar, hit,...</td>\n",
       "      <td>0</td>\n",
       "    </tr>\n",
       "    <tr>\n",
       "      <th>2</th>\n",
       "      <td>T3</td>\n",
       "      <td>Yukos unit buyer faces loan claim\\n\\nThe owner...</td>\n",
       "      <td>Business</td>\n",
       "      <td>[yuko, unit, buyer, face, loan, claim, owner, ...</td>\n",
       "      <td>0</td>\n",
       "    </tr>\n",
       "    <tr>\n",
       "      <th>3</th>\n",
       "      <td>T4</td>\n",
       "      <td>High fuel prices hit BA's profits\\n\\nBritish A...</td>\n",
       "      <td>Business</td>\n",
       "      <td>[high, fuel, price, hit, ba, profit, british, ...</td>\n",
       "      <td>0</td>\n",
       "    </tr>\n",
       "    <tr>\n",
       "      <th>4</th>\n",
       "      <td>T5</td>\n",
       "      <td>Pernod takeover talk lifts Domecq\\n\\nShares in...</td>\n",
       "      <td>Business</td>\n",
       "      <td>[pernod, takeov, talk, lift, domecq, share, uk...</td>\n",
       "      <td>0</td>\n",
       "    </tr>\n",
       "  </tbody>\n",
       "</table>\n",
       "</div>"
      ],
      "text/plain": [
       "  DocumentID                                               Text    Labels  \\\n",
       "0         T1  Ad sales boost Time Warner profit\\n\\nQuarterly...  Business   \n",
       "1         T2  Dollar gains on Greenspan speech\\n\\nThe dollar...  Business   \n",
       "2         T3  Yukos unit buyer faces loan claim\\n\\nThe owner...  Business   \n",
       "3         T4  High fuel prices hit BA's profits\\n\\nBritish A...  Business   \n",
       "4         T5  Pernod takeover talk lifts Domecq\\n\\nShares in...  Business   \n",
       "\n",
       "                            preprocessed_description  encoded_labels  \n",
       "0  [ad, sale, boost, time, warner, profit, quarte...               0  \n",
       "1  [dollar, gain, greenspan, speech, dollar, hit,...               0  \n",
       "2  [yuko, unit, buyer, face, loan, claim, owner, ...               0  \n",
       "3  [high, fuel, price, hit, ba, profit, british, ...               0  \n",
       "4  [pernod, takeov, talk, lift, domecq, share, uk...               0  "
      ]
     },
     "execution_count": 29,
     "metadata": {},
     "output_type": "execute_result"
    }
   ],
   "source": [
    "finalDf.head(5)"
   ]
  },
  {
   "cell_type": "markdown",
   "metadata": {},
   "source": [
    "# Data Splitting\n",
    "\n",
    "    - Splitting the data in train test sample.\n",
    "    - Using stratified sampling to check the accuracy for each Department label."
   ]
  },
  {
   "cell_type": "code",
   "execution_count": 30,
   "metadata": {},
   "outputs": [],
   "source": [
    "from sklearn.model_selection import train_test_split\n",
    "Xtrain,Xtest,ytrain,ytest=train_test_split(df_tf_idf,finalDf['encoded_labels'].values,test_size=0.2,random_state=0,stratify=finalDf['encoded_labels'].values)"
   ]
  },
  {
   "cell_type": "markdown",
   "metadata": {},
   "source": [
    "# Model Training"
   ]
  },
  {
   "cell_type": "markdown",
   "metadata": {},
   "source": [
    "***********************\n",
    "<strong>Building a Logistic Regresion model</strong>"
   ]
  },
  {
   "cell_type": "code",
   "execution_count": 43,
   "metadata": {},
   "outputs": [
    {
     "data": {
      "text/plain": [
       "LogisticRegression(C=1.0, class_weight=None, dual=False, fit_intercept=True,\n",
       "                   intercept_scaling=1, l1_ratio=None, max_iter=100,\n",
       "                   multi_class='multinomial', n_jobs=None, penalty='l2',\n",
       "                   random_state=0, solver='sag', tol=0.0001, verbose=0,\n",
       "                   warm_start=False)"
      ]
     },
     "execution_count": 43,
     "metadata": {},
     "output_type": "execute_result"
    }
   ],
   "source": [
    "from sklearn import datasets, linear_model, metrics\n",
    "clf = linear_model.LogisticRegression(random_state=0,solver='sag',multi_class='multinomial') \n",
    "clf.fit(Xtrain, ytrain) "
   ]
  },
  {
   "cell_type": "markdown",
   "metadata": {},
   "source": [
    "- Random state has been set to produce reproducible results"
   ]
  },
  {
   "cell_type": "markdown",
   "metadata": {},
   "source": [
    "*************************\n",
    "<strong>Evaluating the model</strong>"
   ]
  },
  {
   "cell_type": "code",
   "execution_count": 46,
   "metadata": {},
   "outputs": [
    {
     "name": "stdout",
     "output_type": "stream",
     "text": [
      "Logistic Regression Accuracy Score ->  66.51685393258427\n"
     ]
    }
   ],
   "source": [
    "# Use accuracy_score function to get the accuracy\n",
    "y_predicted_test=clf.predict(Xtest)\n",
    "print(\"Logistic Regression Accuracy Score -> \",accuracy_score(y_predicted_test, ytest)*100)"
   ]
  },
  {
   "cell_type": "code",
   "execution_count": 45,
   "metadata": {},
   "outputs": [
    {
     "name": "stdout",
     "output_type": "stream",
     "text": [
      "               precision    recall  f1-score   support\n",
      "\n",
      "     Business       0.56      1.00      0.72       102\n",
      "Entertainment       0.96      0.32      0.49        77\n",
      "     Politics       1.00      0.44      0.61        84\n",
      "       Sports       0.60      1.00      0.75       102\n",
      "   Technology       1.00      0.38      0.55        80\n",
      "\n",
      "     accuracy                           0.67       445\n",
      "    macro avg       0.82      0.63      0.62       445\n",
      " weighted avg       0.80      0.67      0.63       445\n",
      "\n"
     ]
    }
   ],
   "source": [
    "#Classification report\n",
    "print(classification_report(ytest, y_predicted_test, target_names=Encoder.classes_))"
   ]
  },
  {
   "cell_type": "markdown",
   "metadata": {},
   "source": [
    "***********************\n",
    "<strong>Using Random Forest Classification</strong>"
   ]
  },
  {
   "cell_type": "code",
   "execution_count": 81,
   "metadata": {},
   "outputs": [],
   "source": [
    "from sklearn.ensemble import RandomForestClassifier\n",
    "#Creating a Random forest object with a random state for reproducible results\n",
    "clf = RandomForestClassifier(max_depth=25,n_estimators=19, random_state=0)\n",
    "#Training the model on train data\n",
    "clf.fit(Xtrain, ytrain)\n",
    "y_predicted_test = clf.predict(Xtest)"
   ]
  },
  {
   "cell_type": "markdown",
   "metadata": {},
   "source": [
    "- Best accuracy is obtained at n_estimators=19 and max_depth=25"
   ]
  },
  {
   "cell_type": "markdown",
   "metadata": {},
   "source": [
    "*************************\n",
    "<strong>Evaluating the model</strong> "
   ]
  },
  {
   "cell_type": "code",
   "execution_count": 82,
   "metadata": {},
   "outputs": [
    {
     "name": "stdout",
     "output_type": "stream",
     "text": [
      "Random Forest Accuracy Score ->  96.17977528089887\n"
     ]
    }
   ],
   "source": [
    "# Use accuracy_score function to get the accuracy\n",
    "print(\"Random Forest Accuracy Score -> \",accuracy_score(y_predicted_test, ytest)*100)"
   ]
  },
  {
   "cell_type": "code",
   "execution_count": 83,
   "metadata": {},
   "outputs": [
    {
     "name": "stdout",
     "output_type": "stream",
     "text": [
      "               precision    recall  f1-score   support\n",
      "\n",
      "     Business       0.97      0.90      0.93       102\n",
      "Entertainment       0.99      0.99      0.99        77\n",
      "     Politics       0.92      0.95      0.94        84\n",
      "       Sports       0.99      1.00      1.00       102\n",
      "   Technology       0.94      0.97      0.96        80\n",
      "\n",
      "     accuracy                           0.96       445\n",
      "    macro avg       0.96      0.96      0.96       445\n",
      " weighted avg       0.96      0.96      0.96       445\n",
      "\n"
     ]
    }
   ],
   "source": [
    "#Classification report\n",
    "print(classification_report(ytest, y_predicted_test, target_names=Encoder.classes_))"
   ]
  },
  {
   "cell_type": "markdown",
   "metadata": {},
   "source": [
    "***********************\n",
    "<strong>Using KNN Classification</strong>"
   ]
  },
  {
   "cell_type": "code",
   "execution_count": 37,
   "metadata": {},
   "outputs": [],
   "source": [
    "# Using K fold cross validation to find the optimum value of k\n",
    "knn = KNeighborsClassifier(n_neighbors = 5)\n",
    "scores = cross_val_score(knn, Xtrain, ytrain, cv=5, scoring='accuracy')"
   ]
  },
  {
   "cell_type": "code",
   "execution_count": 38,
   "metadata": {},
   "outputs": [
    {
     "name": "stdout",
     "output_type": "stream",
     "text": [
      "[0.67877095 0.60504202 0.57142857 0.57746479 0.58923513]\n"
     ]
    }
   ],
   "source": [
    "print(scores)"
   ]
  },
  {
   "cell_type": "code",
   "execution_count": 39,
   "metadata": {},
   "outputs": [
    {
     "name": "stdout",
     "output_type": "stream",
     "text": [
      "0.6043882908334224\n"
     ]
    }
   ],
   "source": [
    "print(scores.mean())"
   ]
  },
  {
   "cell_type": "markdown",
   "metadata": {},
   "source": [
    "- This is the mean cross validation score for k=5"
   ]
  },
  {
   "cell_type": "code",
   "execution_count": 40,
   "metadata": {},
   "outputs": [
    {
     "data": {
      "image/png": "[encoded data removed]",
      "text/plain": [
       "<Figure size 432x288 with 1 Axes>"
      ]
     },
     "metadata": {
      "needs_background": "light"
     },
     "output_type": "display_data"
    }
   ],
   "source": [
    "%matplotlib inline\n",
    "# choose k between 1 to 10\n",
    "k_range = range(1, 10)\n",
    "k_scores = []\n",
    "# use iteration to caclulator different k in models, then return the average accuracy based on the cross validation\n",
    "for k in k_range:\n",
    "    knn = KNeighborsClassifier(n_neighbors=k)\n",
    "    scores = cross_val_score(knn, Xtrain, ytrain, cv=5, scoring='accuracy')\n",
    "    k_scores.append(scores.mean())\n",
    "# plot to see clearly\n",
    "plt.plot(k_range, k_scores)\n",
    "plt.xlabel('Value of K for KNN')\n",
    "plt.ylabel('Cross-Validated Accuracy')\n",
    "plt.show()"
   ]
  },
  {
   "cell_type": "markdown",
   "metadata": {},
   "source": [
    "- This plot shows that best accuracy will be obtained at k=1(i.e the boundaries between classes are very clear)"
   ]
  },
  {
   "cell_type": "code",
   "execution_count": 41,
   "metadata": {},
   "outputs": [],
   "source": [
    "# fit the training dataset on the KNN classifier\n",
    "classifier = KNeighborsClassifier(n_neighbors=1)\n",
    "classifier.fit(Xtrain, ytrain)\n",
    "# predict the labels on validation dataset\n",
    "y_predicted_test = classifier.predict(Xtest)"
   ]
  },
  {
   "cell_type": "markdown",
   "metadata": {},
   "source": [
    "*************************\n",
    "<strong>Evaluating the model</strong>"
   ]
  },
  {
   "cell_type": "code",
   "execution_count": 42,
   "metadata": {},
   "outputs": [
    {
     "name": "stdout",
     "output_type": "stream",
     "text": [
      "KNN Accuracy Score ->  76.85393258426966\n"
     ]
    }
   ],
   "source": [
    "# Use accuracy_score function to get the accuracy\n",
    "print(\"KNN Accuracy Score -> \",accuracy_score(y_predicted_test, ytest)*100)"
   ]
  },
  {
   "cell_type": "code",
   "execution_count": 43,
   "metadata": {},
   "outputs": [
    {
     "name": "stdout",
     "output_type": "stream",
     "text": [
      "               precision    recall  f1-score   support\n",
      "\n",
      "     Business       0.90      0.56      0.69       102\n",
      "Entertainment       0.89      0.84      0.87        77\n",
      "     Politics       0.58      0.95      0.72        84\n",
      "       Sports       1.00      0.74      0.85       102\n",
      "   Technology       0.68      0.81      0.74        80\n",
      "\n",
      "     accuracy                           0.77       445\n",
      "    macro avg       0.81      0.78      0.77       445\n",
      " weighted avg       0.82      0.77      0.77       445\n",
      "\n"
     ]
    }
   ],
   "source": [
    "#Classification report\n",
    "print(classification_report(ytest, y_predicted_test, target_names=Encoder.classes_))"
   ]
  },
  {
   "cell_type": "markdown",
   "metadata": {},
   "source": [
    "***********************\n",
    "************************\n",
    "# CONCLUSION"
   ]
  },
  {
   "cell_type": "markdown",
   "metadata": {},
   "source": [
    "## <strong>The three model approaches</strong>\n",
    "    \n",
    "  <i>Random Forest Model</i><br>\n",
    "\n",
    "<strong>Pros</strong><br>\n",
    "- As the data is less this model will outperform all the other models providing a accuracy of <strong>96.17%</strong>.\n",
    "- The predictive performance can compete with the best supervised learning algorithms.<br>\n",
    "\n",
    "<strong>Cons</strong><br> \n",
    "- An ensemble model is inherently less interpretable than an individual decision tree.\n",
    "- Training a large number of deep trees can have high computational costs (but can be parallelized) and use a lot of memory.<br><br>\n",
    " \n",
    " \n",
    "<i>Logistic Regression</i><br>\n",
    "\n",
    "<strong>Pros</strong><br>\n",
    "- It is easy to understand and it can also be trained on small dataset. <br>\n",
    "\n",
    "<strong>Cons</strong><br> \n",
    "- The model is highly scalable although it is giving a accuracy of just <strong>66.51%</strong><br><br>\n",
    "\n",
    "\n",
    "<i>KNN Classification</i><br>\n",
    "\n",
    "<strong>Pros</strong><br>\n",
    "- Simple algorithm — to explain and understand/interpret. <br>\n",
    "- High accuracy (relatively) — it is pretty high but not competitive in comparison to better supervised learning models.It is  providing a accuracy of <strong>76.85%</strong> . \n",
    "\n",
    "<strong>Cons</strong><br> \n",
    "- Computationally expensive — because the algorithm stores all of the training data so it takes a lot of time to predict(not train).\n"
   ]
  },
  {
   "cell_type": "markdown",
   "metadata": {},
   "source": [
    "*****************\n",
    "## Challenges and Future Works"
   ]
  },
  {
   "cell_type": "markdown",
   "metadata": {},
   "source": [
    "- The regular expression approach for replacing specific keywords may not work as the data will increase, the cleaning will take more time and regex is not that much scalable. Even for 1 million records it will take days to process it and if it fails we cannot track it properly.\n",
    "- Preparation of the dataframe from the documents should be done properly to ensure no wrong labels.\n",
    "- If the size of the dataset increases then tf-idf method for vectorization will fail because of large matrix size.\n",
    "- Applying K-Fold Cross Validation on the data to find optimum value of K was computationally very intensive because of such large number of features.\n",
    "- Model training can be improved by trying other approaches which are build majorly for text classification and response is fast with a probability of each class label.\n",
    "- If the size increases and tf-idf starts to fail we can use tokenizer with CNN or Word Embedding with CNN."
   ]
  }
 ],
 "metadata": {
  "kernelspec": {
   "display_name": "Python 3",
   "language": "python",
   "name": "python3"
  },
  "language_info": {
   "codemirror_mode": {
    "name": "ipython",
    "version": 3
   },
   "file_extension": ".py",
   "mimetype": "text/x-python",
   "name": "python",
   "nbconvert_exporter": "python",
   "pygments_lexer": "ipython3",
   "version": "3.7.3"
  }
 },
 "nbformat": 4,
 "nbformat_minor": 2
}
